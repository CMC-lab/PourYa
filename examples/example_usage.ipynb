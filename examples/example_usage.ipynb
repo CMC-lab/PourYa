{
 "cells": [
  {
   "cell_type": "code",
   "execution_count": null,
   "metadata": {},
   "outputs": [],
   "source": [
    "# Example Usage of OuraDataHandler\n",
    "from src.oura_data_handler import OuraDataHandler\n",
    "\n",
    "# Define file paths and access token\n",
    "address = \"/path/to/localdata/\"\n",
    "data_files = {\n",
    "    'daily_sleep': address + 'oura_daily-sleep.csv',\n",
    "}\n",
    "handler = OuraDataHandler(\n",
    "    api_address=\"https://api.ouraring.com\",\n",
    "    local_data_paths=data_files,\n",
    "    access_token=\"YOUR_ACCESS_TOKEN\"\n",
    ")"
   ]
  },
  {
   "cell_type": "code",
   "execution_count": null,
   "metadata": {},
   "outputs": [],
   "source": [
    "# Fetch and plot sleep data\n",
    "sleep_data = handler.fetch_data_from_api(data_type='daily_sleep', start_date='2023-11-01', duration='month')\n",
    "handler.plot_data(sleep_data, column='score', title='Sleep Data Over Time')"
   ]
  }
 ],
 "metadata": {
  "language_info": {
   "name": "python"
  }
 },
 "nbformat": 4,
 "nbformat_minor": 2
}
